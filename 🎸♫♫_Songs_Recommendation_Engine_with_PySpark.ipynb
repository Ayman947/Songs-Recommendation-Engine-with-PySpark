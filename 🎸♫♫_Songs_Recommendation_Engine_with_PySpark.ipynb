{
  "nbformat": 4,
  "nbformat_minor": 0,
  "metadata": {
    "colab": {
      "provenance": [],
      "collapsed_sections": [
        "5qfDMlQ4PNoJ"
      ],
      "toc_visible": true,
      "authorship_tag": "ABX9TyNDz5yrFdUuGw5Bkw8mCuP+",
      "include_colab_link": true
    },
    "kernelspec": {
      "name": "python3",
      "display_name": "Python 3"
    },
    "language_info": {
      "name": "python"
    }
  },
  "cells": [
    {
      "cell_type": "markdown",
      "metadata": {
        "id": "view-in-github",
        "colab_type": "text"
      },
      "source": [
        "<a href=\"https://colab.research.google.com/github/Ayman947/Songs-Recommendation-Engine-with-PySpark/blob/main/%F0%9F%8E%B8%E2%99%AB%E2%99%AB_Songs_Recommendation_Engine_with_PySpark.ipynb\" target=\"_parent\"><img src=\"https://colab.research.google.com/assets/colab-badge.svg\" alt=\"Open In Colab\"/></a>"
      ]
    },
    {
      "cell_type": "markdown",
      "source": [
        "## **Importing Packages**"
      ],
      "metadata": {
        "id": "HZJNwEDrGBQu"
      }
    },
    {
      "cell_type": "code",
      "source": [
        "! pip install pyspark\n",
        "from pyspark.sql import SparkSession\n",
        "from pyspark.ml.recommendation import ALS\n",
        "from pyspark.mllib.recommendation import Rating\n",
        "from pyspark.sql.functions import monotonically_increasing_id\n",
        "from pyspark.sql import functions as F\n",
        "from pyspark.ml.evaluation import RegressionEvaluator\n",
        "from pyspark.ml.tuning import CrossValidator, ParamGridBuilder"
      ],
      "metadata": {
        "colab": {
          "base_uri": "https://localhost:8080/"
        },
        "id": "G77eqPOcG1Nr",
        "outputId": "9041c939-632b-4a68-c0e3-3efacfa4110f"
      },
      "execution_count": 1,
      "outputs": [
        {
          "output_type": "stream",
          "name": "stdout",
          "text": [
            "Looking in indexes: https://pypi.org/simple, https://us-python.pkg.dev/colab-wheels/public/simple/\n",
            "Collecting pyspark\n",
            "  Downloading pyspark-3.3.2.tar.gz (281.4 MB)\n",
            "\u001b[2K     \u001b[90m━━━━━━━━━━━━━━━━━━━━━━━━━━━━━━━━━━━━━━━\u001b[0m \u001b[32m281.4/281.4 MB\u001b[0m \u001b[31m5.2 MB/s\u001b[0m eta \u001b[36m0:00:00\u001b[0m\n",
            "\u001b[?25h  Preparing metadata (setup.py) ... \u001b[?25l\u001b[?25hdone\n",
            "Collecting py4j==0.10.9.5\n",
            "  Downloading py4j-0.10.9.5-py2.py3-none-any.whl (199 kB)\n",
            "\u001b[2K     \u001b[90m━━━━━━━━━━━━━━━━━━━━━━━━━━━━━━━━━━━━━━\u001b[0m \u001b[32m199.7/199.7 KB\u001b[0m \u001b[31m25.2 MB/s\u001b[0m eta \u001b[36m0:00:00\u001b[0m\n",
            "\u001b[?25hBuilding wheels for collected packages: pyspark\n",
            "  Building wheel for pyspark (setup.py) ... \u001b[?25l\u001b[?25hdone\n",
            "  Created wheel for pyspark: filename=pyspark-3.3.2-py2.py3-none-any.whl size=281824028 sha256=e68d5bafc77efa0d3e98dbc7ef6545b2a951edc3cc541c722ee935a10564bc23\n",
            "  Stored in directory: /root/.cache/pip/wheels/6c/e3/9b/0525ce8a69478916513509d43693511463c6468db0de237c86\n",
            "Successfully built pyspark\n",
            "Installing collected packages: py4j, pyspark\n",
            "  Attempting uninstall: py4j\n",
            "    Found existing installation: py4j 0.10.9.7\n",
            "    Uninstalling py4j-0.10.9.7:\n",
            "      Successfully uninstalled py4j-0.10.9.7\n",
            "Successfully installed py4j-0.10.9.5 pyspark-3.3.2\n"
          ]
        }
      ]
    },
    {
      "cell_type": "markdown",
      "source": [
        "## **Creating a Spark's Session**"
      ],
      "metadata": {
        "id": "uIbXmbZLG9SO"
      }
    },
    {
      "cell_type": "code",
      "execution_count": 2,
      "metadata": {
        "id": "lza9EAa8Frsl",
        "colab": {
          "base_uri": "https://localhost:8080/"
        },
        "outputId": "a82cead3-934f-4839-ab12-b2f3a6a86401"
      },
      "outputs": [
        {
          "output_type": "stream",
          "name": "stdout",
          "text": [
            "Spark's version:  3.3.2\n",
            "Name: songs_recommender\n",
            "Driver TCP port: 44857\n",
            "Number of partitions: 200\n"
          ]
        }
      ],
      "source": [
        "spark = SparkSession.builder.master('local[*]').appName('songs_recommender').getOrCreate()\n",
        "print(\"Spark's version: \", spark.version)\n",
        "app_name = spark.conf.get('spark.app.name')\n",
        "driver_tcp_port = spark.conf.get('spark.driver.port')\n",
        "num_partitions = spark.conf.get('spark.sql.shuffle.partitions')\n",
        "# spark.conf.set(\"spark.sql.shuffle.partitions\", 50)\n",
        "print(\"Name: %s\" % app_name)\n",
        "print(\"Driver TCP port: %s\" % driver_tcp_port)\n",
        "print(\"Number of partitions: %s\" % num_partitions)"
      ]
    },
    {
      "cell_type": "markdown",
      "source": [
        "## **Collecting the Data**"
      ],
      "metadata": {
        "id": "qfZYdoZPH3Uv"
      }
    },
    {
      "cell_type": "code",
      "source": [
        "df = spark.read.csv(\"songsDataset.csv\", header=True, inferSchema=True, sep=',').distinct()\n",
        "# df.write.parquet('output.parquet', mode='overwrite')"
      ],
      "metadata": {
        "id": "G_aUcH6zGa0c"
      },
      "execution_count": 5,
      "outputs": []
    },
    {
      "cell_type": "markdown",
      "source": [
        "## **Inspecting the data**"
      ],
      "metadata": {
        "id": "AFBJVmtWJJN3"
      }
    },
    {
      "cell_type": "code",
      "source": [
        "# printing the data schema\n",
        "df.printSchema()\n",
        "print()\n",
        "\n",
        "# printing 5 rows of the data\n",
        "df.show(5)\n",
        "print()\n",
        "\n",
        "# printng the data dimensions\n",
        "print('Rows: ' + str(df.count()) + '   Columns: ' + str(len(df.columns)))\n",
        "print()"
      ],
      "metadata": {
        "colab": {
          "base_uri": "https://localhost:8080/"
        },
        "id": "cFP-WtFQGaPz",
        "outputId": "82cfb130-3018-4c35-8d26-6a2094508d50"
      },
      "execution_count": 6,
      "outputs": [
        {
          "output_type": "stream",
          "name": "stdout",
          "text": [
            "root\n",
            " |-- 'userID': integer (nullable = true)\n",
            " |-- 'songID': integer (nullable = true)\n",
            " |-- 'rating': integer (nullable = true)\n",
            "\n",
            "\n",
            "+--------+--------+--------+\n",
            "|'userID'|'songID'|'rating'|\n",
            "+--------+--------+--------+\n",
            "|      25|  105962|       1|\n",
            "|      56|   77182|       5|\n",
            "|      78|   48344|       4|\n",
            "|      80|   81638|       5|\n",
            "|     154|  116008|       1|\n",
            "+--------+--------+--------+\n",
            "only showing top 5 rows\n",
            "\n",
            "\n",
            "Rows: 2000000   Columns: 3\n",
            "\n"
          ]
        }
      ]
    },
    {
      "cell_type": "markdown",
      "source": [
        "## **EDA**"
      ],
      "metadata": {
        "id": "cP2s6hjeON9m"
      }
    },
    {
      "cell_type": "code",
      "source": [
        "numerator = df.select(\"'rating'\").count()\n",
        "num_users = df.select(\"'userID'\").distinct().count()\n",
        "num_items = df.select(\"'songID'\").distinct().count()\n",
        "denominator = num_users * num_items\n",
        "sparsity = (1.0 - (numerator * 1.0)/denominator)*100\n",
        "print(\"Number of users: \", num_users)\n",
        "print(\"Number of items: \", num_items)\n",
        "print(\"The ratings dataframe is \", \"%.2f\" % sparsity + \"% empty.\")"
      ],
      "metadata": {
        "colab": {
          "base_uri": "https://localhost:8080/"
        },
        "id": "HZecCg_QONhP",
        "outputId": "b5829b77-64bb-4ab9-a450-99ad5f745e4d"
      },
      "execution_count": 7,
      "outputs": [
        {
          "output_type": "stream",
          "name": "stdout",
          "text": [
            "Number of users:  200000\n",
            "Number of items:  127771\n",
            "The ratings dataframe is  99.99% empty.\n"
          ]
        }
      ]
    },
    {
      "cell_type": "markdown",
      "source": [
        "## **Data Preparation & Preprocessing**"
      ],
      "metadata": {
        "id": "6YKJEuDJPAOZ"
      }
    },
    {
      "cell_type": "code",
      "source": [
        "# encoding user ids\n",
        "users = df.select(\"'userID'\").distinct()\n",
        "users = users.coalesce(1)\n",
        "users = users.withColumn('user_id_int', monotonically_increasing_id()).persist()\n",
        "users.show(5)\n",
        "\n",
        "\n",
        "# encoding item ids\n",
        "items = df.select(\"'songID'\").distinct()\n",
        "items = items.coalesce(1)\n",
        "items = items.withColumn('item_id_int', monotonically_increasing_id()).persist()\n",
        "items.show(5)\n",
        "\n",
        "\n",
        "# joining\n",
        "df = df.join(users, \"'userID'\", \"left\").join(items, \"'songID'\", \"left\")\n",
        "df.show(5)\n",
        "\n",
        "\n",
        "# ratings data\n",
        "ratings_data = df.select(F.col('user_id_int').alias(\"userId\"), F.col('item_id_int').alias(\"itemId\"), F.col(\"'rating'\").alias('rating'))\n",
        "ratings_data.show(5)\n",
        "\n",
        "\n",
        "# train-test split\n",
        "(training_data, test_data) = ratings_data.randomSplit([0.8, 0.2], seed=96)"
      ],
      "metadata": {
        "colab": {
          "base_uri": "https://localhost:8080/"
        },
        "id": "M3Pps4H-Njdl",
        "outputId": "d61e0713-9446-4d5a-9b79-eb9b76c30c6e"
      },
      "execution_count": 8,
      "outputs": [
        {
          "output_type": "stream",
          "name": "stdout",
          "text": [
            "+--------+-----------+\n",
            "|'userID'|user_id_int|\n",
            "+--------+-----------+\n",
            "|     148|          0|\n",
            "|     463|          1|\n",
            "|     471|          2|\n",
            "|     496|          3|\n",
            "|     833|          4|\n",
            "+--------+-----------+\n",
            "only showing top 5 rows\n",
            "\n",
            "+--------+-----------+\n",
            "|'songID'|item_id_int|\n",
            "+--------+-----------+\n",
            "|  102798|          0|\n",
            "|   56680|          1|\n",
            "|   18051|          2|\n",
            "|   47711|          3|\n",
            "|   19984|          4|\n",
            "+--------+-----------+\n",
            "only showing top 5 rows\n",
            "\n",
            "+--------+--------+--------+-----------+-----------+\n",
            "|'songID'|'userID'|'rating'|user_id_int|item_id_int|\n",
            "+--------+--------+--------+-----------+-----------+\n",
            "|  105962|      25|       1|     132127|      45335|\n",
            "|   77182|      56|       5|     156269|      19734|\n",
            "|   48344|      78|       4|       7005|      56859|\n",
            "|   81638|      80|       5|     131125|     112589|\n",
            "|  116008|     154|       1|      75054|      28057|\n",
            "+--------+--------+--------+-----------+-----------+\n",
            "only showing top 5 rows\n",
            "\n",
            "+------+------+------+\n",
            "|userId|itemId|rating|\n",
            "+------+------+------+\n",
            "|132127| 45335|     1|\n",
            "|156269| 19734|     5|\n",
            "|  7005| 56859|     4|\n",
            "|131125|112589|     5|\n",
            "| 75054| 28057|     1|\n",
            "+------+------+------+\n",
            "only showing top 5 rows\n",
            "\n"
          ]
        }
      ]
    },
    {
      "cell_type": "markdown",
      "source": [
        "## **Modeling: ALS**"
      ],
      "metadata": {
        "id": "TwxC4t_WPHxu"
      }
    },
    {
      "cell_type": "code",
      "source": [
        "als_model = ALS(userCol='userId',          # column that contains user ids\n",
        "                itemCol='itemId',          # column that contains item ids\n",
        "                ratingCol='rating',        # column that contains ratings\n",
        "                rank=10,                   # no. of latent features\n",
        "                maxIter=10,                # no. of ALS iterations\n",
        "                regParam=0.5,              # regularization coefficient (λ)\n",
        "                nonnegative=True,          # for ensuring positive numbers only\n",
        "                coldStartStrategy=\"drop\",  # for handling train/test splitting issues\n",
        "                implicitPrefs=False)\n",
        "\n",
        "als_model = als_model.fit(training_data)\n",
        "predictions = als_model.transform(test_data)"
      ],
      "metadata": {
        "id": "Fh_eX3XaPLUR"
      },
      "execution_count": 9,
      "outputs": []
    },
    {
      "cell_type": "markdown",
      "source": [
        "## **Evaluation: RMSE**"
      ],
      "metadata": {
        "id": "kavJuEm_PNbd"
      }
    },
    {
      "cell_type": "code",
      "source": [
        "evaluator = RegressionEvaluator(metricName=\"rmse\", labelCol=\"rating\", predictionCol=\"prediction\")\n",
        "print(f'Evaluation Metric: {evaluator.getMetricName()}')\n",
        "print(f'Label Column : {evaluator.getLabelCol()}')\n",
        "print(f'predictions Column: {evaluator.getPredictionCol()}')\n",
        "print('*' * 30)\n",
        "print (f'RMSE = {round(evaluator.evaluate(predictions), 3)}')"
      ],
      "metadata": {
        "id": "QgbxZN8ePNha",
        "colab": {
          "base_uri": "https://localhost:8080/"
        },
        "outputId": "a6e4fe15-a718-43b7-ae99-74ae2be1ad6b"
      },
      "execution_count": 10,
      "outputs": [
        {
          "output_type": "stream",
          "name": "stdout",
          "text": [
            "Evaluation Metric: rmse\n",
            "Label Column : rating\n",
            "predictions Column: prediction\n",
            "******************************\n",
            "RMSE = 1.474\n"
          ]
        }
      ]
    },
    {
      "cell_type": "markdown",
      "source": [
        "## **Optimization**"
      ],
      "metadata": {
        "id": "5qfDMlQ4PNoJ"
      }
    },
    {
      "cell_type": "code",
      "source": [
        "# params = ParamGridBuilder()\n",
        "# params = params.addGrid(als_model.rank, [5, 40, 80, 120])         # no. of latent features\n",
        "# params = params.addGrid(als_model.maxIter, [5, 100, 250, 500])    # no. of ALS iterations\n",
        "# params = params.addGrid(als_model.regParam, [0.05, 0.1, 1.5])     # regularization coefficient (λ)\n",
        "# params = params.build()\n",
        "# print(f'Number of models to be tested: {len(params)}' )\n",
        "\n",
        "\n",
        "# cv = CrossValidator(estimator=als_model,\n",
        "#                     estimatorParamMaps=params,\n",
        "#                     evaluator=evaluator,\n",
        "#                     numFolds=5, seed=96).fit(training_data)\n",
        "\n",
        "\n",
        "\n",
        "# best_model = cv.bestModel\n",
        "# best_predictions = best_model.transform(test_data)\n",
        "# rmse = evaluator.evaluate(best_predictions)\n",
        "# print(\"**Best Model**\")\n",
        "# print(\"  RMSE:\", round(rmse, 3))\n",
        "# print(\"  Rank:\", best_model.getRank())\n",
        "# print(\"  MaxIter:\", best_model.getMaxIter())\n",
        "# print(\"  RegParam:\", best_model.getRegParam())"
      ],
      "metadata": {
        "id": "auPXiEXTPNtz"
      },
      "execution_count": null,
      "outputs": []
    },
    {
      "cell_type": "markdown",
      "source": [
        "## **Recommendations**"
      ],
      "metadata": {
        "id": "T3sTMsIGPN1R"
      }
    },
    {
      "cell_type": "code",
      "source": [
        "# ALS_recommendations = best_model.recommendForAllUsers(5)\n",
        "ALS_recommendations = als_model.recommendForAllUsers(5)\n",
        "ALS_recommendations.show(5)"
      ],
      "metadata": {
        "id": "Q5YOmZBYPN7a",
        "colab": {
          "base_uri": "https://localhost:8080/"
        },
        "outputId": "325e5a20-2748-4227-b2ce-8159d2446099"
      },
      "execution_count": 11,
      "outputs": [
        {
          "output_type": "stream",
          "name": "stdout",
          "text": [
            "+------+--------------------+\n",
            "|userId|     recommendations|\n",
            "+------+--------------------+\n",
            "|     1|[{4404, 5.700958}...|\n",
            "|     3|[{4404, 5.5138726...|\n",
            "|     5|[{26653, 3.228396...|\n",
            "|     6|[{3118, 4.5049295...|\n",
            "|     9|[{127675, 4.38110...|\n",
            "+------+--------------------+\n",
            "only showing top 5 rows\n",
            "\n"
          ]
        }
      ]
    },
    {
      "cell_type": "code",
      "source": [
        "## stopping the Spark's session\n",
        "spark.stop()"
      ],
      "metadata": {
        "id": "CM_pAtu3q3H-"
      },
      "execution_count": 12,
      "outputs": []
    }
  ]
}